{
 "cells": [
  {
   "cell_type": "code",
   "execution_count": 1,
   "id": "25c6cc6c",
   "metadata": {
    "_cell_guid": "b1076dfc-b9ad-4769-8c92-a6c4dae69d19",
    "_uuid": "8f2839f25d086af736a60e9eeb907d3b93b6e0e5",
    "execution": {
     "iopub.execute_input": "2024-01-15T13:58:43.382389Z",
     "iopub.status.busy": "2024-01-15T13:58:43.382021Z",
     "iopub.status.idle": "2024-01-15T13:58:44.238246Z",
     "shell.execute_reply": "2024-01-15T13:58:44.237264Z"
    },
    "papermill": {
     "duration": 0.870456,
     "end_time": "2024-01-15T13:58:44.240733",
     "exception": false,
     "start_time": "2024-01-15T13:58:43.370277",
     "status": "completed"
    },
    "tags": []
   },
   "outputs": [
    {
     "name": "stdout",
     "output_type": "stream",
     "text": [
      "/kaggle/input/daigt-v2-train-dataset/train_v2_drcat_02.csv\n",
      "/kaggle/input/distil_bert/keras/distil_bert_base_en_uncased/1/config.json\n",
      "/kaggle/input/distil_bert/keras/distil_bert_base_en_uncased/1/tokenizer.json\n",
      "/kaggle/input/distil_bert/keras/distil_bert_base_en_uncased/1/metadata.json\n",
      "/kaggle/input/distil_bert/keras/distil_bert_base_en_uncased/1/model.weights.h5\n",
      "/kaggle/input/distil_bert/keras/distil_bert_base_en_uncased/1/assets/tokenizer/vocabulary.txt\n",
      "/kaggle/input/llm-mistral-7b-instruct-texts/Mistral7B_CME_v3.csv\n",
      "/kaggle/input/llm-mistral-7b-instruct-texts/Mistral7B_CME_v5.csv\n",
      "/kaggle/input/llm-mistral-7b-instruct-texts/Mistral7B_CME_v7.csv\n",
      "/kaggle/input/llm-mistral-7b-instruct-texts/Mistral7B_CME_v6.csv\n",
      "/kaggle/input/llm-mistral-7b-instruct-texts/Mistral7B_CME_v2.csv\n",
      "/kaggle/input/llm-mistral-7b-instruct-texts/Mistral7B_CME_v1.csv\n",
      "/kaggle/input/llm-mistral-7b-instruct-texts/Mistral7B_CME_v7_15_percent_corruption.csv\n",
      "/kaggle/input/llm-mistral-7b-instruct-texts/Mistral7B_CME_v4.csv\n",
      "/kaggle/input/llm-detect-ai-generated-text/sample_submission.csv\n",
      "/kaggle/input/llm-detect-ai-generated-text/train_prompts.csv\n",
      "/kaggle/input/llm-detect-ai-generated-text/test_essays.csv\n",
      "/kaggle/input/llm-detect-ai-generated-text/train_essays.csv\n",
      "/kaggle/input/daigt-proper-train-dataset/train_drcat_03.csv\n",
      "/kaggle/input/daigt-proper-train-dataset/train_drcat_02.csv\n",
      "/kaggle/input/daigt-proper-train-dataset/train_drcat_04.csv\n",
      "/kaggle/input/daigt-proper-train-dataset/train_drcat_01.csv\n"
     ]
    }
   ],
   "source": [
    "# This Python 3 environment comes with many helpful analytics libraries installed\n",
    "# It is defined by the kaggle/python Docker image: https://github.com/kaggle/docker-python\n",
    "# For example, here's several helpful packages to load\n",
    "\n",
    "import numpy as np # linear algebra\n",
    "import pandas as pd # data processing, CSV file I/O (e.g. pd.read_csv)\n",
    "\n",
    "# Input data files are available in the read-only \"../input/\" directory\n",
    "# For example, running this (by clicking run or pressing Shift+Enter) will list all files under the input directory\n",
    "\n",
    "import os\n",
    "for dirname, _, filenames in os.walk('/kaggle/input'):\n",
    "    for filename in filenames:\n",
    "        print(os.path.join(dirname, filename))\n",
    "\n",
    "# You can write up to 20GB to the current directory (/kaggle/working/) that gets preserved as output when you create a version using \"Save & Run All\" \n",
    "# You can also write temporary files to /kaggle/temp/, but they won't be saved outside of the current session"
   ]
  },
  {
   "cell_type": "code",
   "execution_count": 2,
   "id": "a77ff91d",
   "metadata": {
    "execution": {
     "iopub.execute_input": "2024-01-15T13:58:44.261848Z",
     "iopub.status.busy": "2024-01-15T13:58:44.261415Z",
     "iopub.status.idle": "2024-01-15T13:58:44.370555Z",
     "shell.execute_reply": "2024-01-15T13:58:44.369486Z"
    },
    "papermill": {
     "duration": 0.122113,
     "end_time": "2024-01-15T13:58:44.372916",
     "exception": false,
     "start_time": "2024-01-15T13:58:44.250803",
     "status": "completed"
    },
    "tags": []
   },
   "outputs": [],
   "source": [
    "data_path=\"/kaggle/input/llm-detect-ai-generated-text/\"\n",
    "sample_submission=pd.read_csv(data_path+'sample_submission.csv')\n",
    "train_prompts=pd.read_csv(data_path+'train_prompts.csv')\n",
    "test_essays =pd.read_csv(data_path+\"test_essays.csv\")\n",
    "train_essays = pd.read_csv(data_path+\"train_essays.csv\")"
   ]
  },
  {
   "cell_type": "code",
   "execution_count": 3,
   "id": "63a35830",
   "metadata": {
    "execution": {
     "iopub.execute_input": "2024-01-15T13:58:44.393890Z",
     "iopub.status.busy": "2024-01-15T13:58:44.393469Z",
     "iopub.status.idle": "2024-01-15T13:58:44.426788Z",
     "shell.execute_reply": "2024-01-15T13:58:44.425560Z"
    },
    "papermill": {
     "duration": 0.046302,
     "end_time": "2024-01-15T13:58:44.428968",
     "exception": false,
     "start_time": "2024-01-15T13:58:44.382666",
     "status": "completed"
    },
    "tags": []
   },
   "outputs": [
    {
     "name": "stdout",
     "output_type": "stream",
     "text": [
      "<class 'pandas.core.frame.DataFrame'>\n",
      "RangeIndex: 3 entries, 0 to 2\n",
      "Data columns (total 2 columns):\n",
      " #   Column     Non-Null Count  Dtype  \n",
      "---  ------     --------------  -----  \n",
      " 0   id         3 non-null      object \n",
      " 1   generated  3 non-null      float64\n",
      "dtypes: float64(1), object(1)\n",
      "memory usage: 176.0+ bytes\n",
      "None\n",
      "<bound method NDFrame.head of          id  generated\n",
      "0  0000aaaa        0.1\n",
      "1  1111bbbb        0.9\n",
      "2  2222cccc        0.4>\n"
     ]
    }
   ],
   "source": [
    "print(sample_submission.info())\n",
    "print(sample_submission.head)"
   ]
  },
  {
   "cell_type": "code",
   "execution_count": 4,
   "id": "4b4f7fb3",
   "metadata": {
    "execution": {
     "iopub.execute_input": "2024-01-15T13:58:44.450268Z",
     "iopub.status.busy": "2024-01-15T13:58:44.449957Z",
     "iopub.status.idle": "2024-01-15T13:58:44.461677Z",
     "shell.execute_reply": "2024-01-15T13:58:44.460785Z"
    },
    "papermill": {
     "duration": 0.024595,
     "end_time": "2024-01-15T13:58:44.464111",
     "exception": false,
     "start_time": "2024-01-15T13:58:44.439516",
     "status": "completed"
    },
    "tags": []
   },
   "outputs": [
    {
     "name": "stdout",
     "output_type": "stream",
     "text": [
      "<class 'pandas.core.frame.DataFrame'>\n",
      "RangeIndex: 2 entries, 0 to 1\n",
      "Data columns (total 4 columns):\n",
      " #   Column        Non-Null Count  Dtype \n",
      "---  ------        --------------  ----- \n",
      " 0   prompt_id     2 non-null      int64 \n",
      " 1   prompt_name   2 non-null      object\n",
      " 2   instructions  2 non-null      object\n",
      " 3   source_text   2 non-null      object\n",
      "dtypes: int64(1), object(3)\n",
      "memory usage: 192.0+ bytes\n",
      "None\n",
      "<bound method NDFrame.head of    prompt_id                       prompt_name  \\\n",
      "0          0                   Car-free cities   \n",
      "1          1  Does the electoral college work?   \n",
      "\n",
      "                                        instructions  \\\n",
      "0  Write an explanatory essay to inform fellow ci...   \n",
      "1  Write a letter to your state senator in which ...   \n",
      "\n",
      "                                         source_text  \n",
      "0  # In German Suburb, Life Goes On Without Cars ...  \n",
      "1  # What Is the Electoral College? by the Office...  >\n"
     ]
    }
   ],
   "source": [
    "print(train_prompts.info())\n",
    "print(train_prompts.head)"
   ]
  },
  {
   "cell_type": "code",
   "execution_count": 5,
   "id": "379d4849",
   "metadata": {
    "execution": {
     "iopub.execute_input": "2024-01-15T13:58:44.485508Z",
     "iopub.status.busy": "2024-01-15T13:58:44.485223Z",
     "iopub.status.idle": "2024-01-15T13:58:44.497919Z",
     "shell.execute_reply": "2024-01-15T13:58:44.497099Z"
    },
    "papermill": {
     "duration": 0.025681,
     "end_time": "2024-01-15T13:58:44.500491",
     "exception": false,
     "start_time": "2024-01-15T13:58:44.474810",
     "status": "completed"
    },
    "tags": []
   },
   "outputs": [
    {
     "name": "stdout",
     "output_type": "stream",
     "text": [
      "<class 'pandas.core.frame.DataFrame'>\n",
      "RangeIndex: 1378 entries, 0 to 1377\n",
      "Data columns (total 4 columns):\n",
      " #   Column     Non-Null Count  Dtype \n",
      "---  ------     --------------  ----- \n",
      " 0   id         1378 non-null   object\n",
      " 1   prompt_id  1378 non-null   int64 \n",
      " 2   text       1378 non-null   object\n",
      " 3   generated  1378 non-null   int64 \n",
      "dtypes: int64(2), object(2)\n",
      "memory usage: 43.2+ KB\n",
      "None\n",
      "<bound method NDFrame.head of             id  prompt_id                                               text  \\\n",
      "0     0059830c          0  Cars. Cars have been around since they became ...   \n",
      "1     005db917          0  Transportation is a large necessity in most co...   \n",
      "2     008f63e3          0  \"America's love affair with it's vehicles seem...   \n",
      "3     00940276          0  How often do you ride in a car? Do you drive a...   \n",
      "4     00c39458          0  Cars are a wonderful thing. They are perhaps o...   \n",
      "...        ...        ...                                                ...   \n",
      "1373  fe6ff9a5          1  There has been a fuss about the Elector Colleg...   \n",
      "1374  ff669174          0  Limiting car usage has many advantages. Such a...   \n",
      "1375  ffa247e0          0  There's a new trend that has been developing f...   \n",
      "1376  ffc237e9          0  As we all know cars are a big part of our soci...   \n",
      "1377  ffe1ca0d          0  Cars have been around since the 1800's and hav...   \n",
      "\n",
      "      generated  \n",
      "0             0  \n",
      "1             0  \n",
      "2             0  \n",
      "3             0  \n",
      "4             0  \n",
      "...         ...  \n",
      "1373          0  \n",
      "1374          0  \n",
      "1375          0  \n",
      "1376          0  \n",
      "1377          0  \n",
      "\n",
      "[1378 rows x 4 columns]>\n"
     ]
    }
   ],
   "source": [
    "print(train_essays.info())\n",
    "print(train_essays.head)"
   ]
  },
  {
   "cell_type": "code",
   "execution_count": 6,
   "id": "15cbc45e",
   "metadata": {
    "execution": {
     "iopub.execute_input": "2024-01-15T13:58:44.520638Z",
     "iopub.status.busy": "2024-01-15T13:58:44.520398Z",
     "iopub.status.idle": "2024-01-15T13:58:44.530185Z",
     "shell.execute_reply": "2024-01-15T13:58:44.529315Z"
    },
    "papermill": {
     "duration": 0.022419,
     "end_time": "2024-01-15T13:58:44.532318",
     "exception": false,
     "start_time": "2024-01-15T13:58:44.509899",
     "status": "completed"
    },
    "tags": []
   },
   "outputs": [
    {
     "name": "stdout",
     "output_type": "stream",
     "text": [
      "<class 'pandas.core.frame.DataFrame'>\n",
      "RangeIndex: 3 entries, 0 to 2\n",
      "Data columns (total 3 columns):\n",
      " #   Column     Non-Null Count  Dtype \n",
      "---  ------     --------------  ----- \n",
      " 0   id         3 non-null      object\n",
      " 1   prompt_id  3 non-null      int64 \n",
      " 2   text       3 non-null      object\n",
      "dtypes: int64(1), object(2)\n",
      "memory usage: 200.0+ bytes\n",
      "None\n",
      "<bound method NDFrame.head of          id  prompt_id          text\n",
      "0  0000aaaa          2  Aaa bbb ccc.\n",
      "1  1111bbbb          3  Bbb ccc ddd.\n",
      "2  2222cccc          4  CCC ddd eee.>\n"
     ]
    }
   ],
   "source": [
    "print(test_essays.info())\n",
    "print(test_essays.head)"
   ]
  },
  {
   "cell_type": "code",
   "execution_count": 7,
   "id": "fe034044",
   "metadata": {
    "execution": {
     "iopub.execute_input": "2024-01-15T13:58:44.553063Z",
     "iopub.status.busy": "2024-01-15T13:58:44.552810Z",
     "iopub.status.idle": "2024-01-15T13:58:44.561893Z",
     "shell.execute_reply": "2024-01-15T13:58:44.560983Z"
    },
    "papermill": {
     "duration": 0.021617,
     "end_time": "2024-01-15T13:58:44.563935",
     "exception": false,
     "start_time": "2024-01-15T13:58:44.542318",
     "status": "completed"
    },
    "tags": []
   },
   "outputs": [
    {
     "data": {
      "text/plain": [
       "generated\n",
       "0    1375\n",
       "1       3\n",
       "Name: count, dtype: int64"
      ]
     },
     "execution_count": 7,
     "metadata": {},
     "output_type": "execute_result"
    }
   ],
   "source": [
    "train_essays[\"generated\"].value_counts()"
   ]
  },
  {
   "cell_type": "code",
   "execution_count": 8,
   "id": "6703fb73",
   "metadata": {
    "execution": {
     "iopub.execute_input": "2024-01-15T13:58:44.585201Z",
     "iopub.status.busy": "2024-01-15T13:58:44.584951Z",
     "iopub.status.idle": "2024-01-15T13:58:44.591294Z",
     "shell.execute_reply": "2024-01-15T13:58:44.590501Z"
    },
    "papermill": {
     "duration": 0.019229,
     "end_time": "2024-01-15T13:58:44.593355",
     "exception": false,
     "start_time": "2024-01-15T13:58:44.574126",
     "status": "completed"
    },
    "tags": []
   },
   "outputs": [
    {
     "data": {
      "text/plain": [
       "prompt_id\n",
       "0    708\n",
       "1    670\n",
       "Name: count, dtype: int64"
      ]
     },
     "execution_count": 8,
     "metadata": {},
     "output_type": "execute_result"
    }
   ],
   "source": [
    "train_essays[\"prompt_id\"].value_counts()"
   ]
  },
  {
   "cell_type": "code",
   "execution_count": 9,
   "id": "95655f5f",
   "metadata": {
    "execution": {
     "iopub.execute_input": "2024-01-15T13:58:44.613856Z",
     "iopub.status.busy": "2024-01-15T13:58:44.613592Z",
     "iopub.status.idle": "2024-01-15T13:58:44.871399Z",
     "shell.execute_reply": "2024-01-15T13:58:44.870580Z"
    },
    "papermill": {
     "duration": 0.270874,
     "end_time": "2024-01-15T13:58:44.874035",
     "exception": false,
     "start_time": "2024-01-15T13:58:44.603161",
     "status": "completed"
    },
    "tags": []
   },
   "outputs": [],
   "source": [
    "oth_dp=\"/kaggle/input/llm-mistral-7b-instruct-texts/Mistral7B_CME_v7.csv\"\n",
    "dataset1=pd.read_csv(oth_dp)"
   ]
  },
  {
   "cell_type": "code",
   "execution_count": 10,
   "id": "507f2508",
   "metadata": {
    "execution": {
     "iopub.execute_input": "2024-01-15T13:58:44.897816Z",
     "iopub.status.busy": "2024-01-15T13:58:44.897474Z",
     "iopub.status.idle": "2024-01-15T13:58:44.909005Z",
     "shell.execute_reply": "2024-01-15T13:58:44.908186Z"
    },
    "papermill": {
     "duration": 0.026181,
     "end_time": "2024-01-15T13:58:44.911438",
     "exception": false,
     "start_time": "2024-01-15T13:58:44.885257",
     "status": "completed"
    },
    "tags": []
   },
   "outputs": [
    {
     "name": "stdout",
     "output_type": "stream",
     "text": [
      "<class 'pandas.core.frame.DataFrame'>\n",
      "RangeIndex: 4900 entries, 0 to 4899\n",
      "Data columns (total 4 columns):\n",
      " #   Column       Non-Null Count  Dtype \n",
      "---  ------       --------------  ----- \n",
      " 0   prompt_id    4900 non-null   int64 \n",
      " 1   text         4900 non-null   object\n",
      " 2   prompt_name  4900 non-null   object\n",
      " 3   generated    4900 non-null   int64 \n",
      "dtypes: int64(2), object(2)\n",
      "memory usage: 153.2+ KB\n"
     ]
    }
   ],
   "source": [
    "dataset1.info()"
   ]
  },
  {
   "cell_type": "code",
   "execution_count": 11,
   "id": "778b7659",
   "metadata": {
    "execution": {
     "iopub.execute_input": "2024-01-15T13:58:44.934758Z",
     "iopub.status.busy": "2024-01-15T13:58:44.934187Z",
     "iopub.status.idle": "2024-01-15T13:58:44.943552Z",
     "shell.execute_reply": "2024-01-15T13:58:44.942640Z"
    },
    "papermill": {
     "duration": 0.022748,
     "end_time": "2024-01-15T13:58:44.945831",
     "exception": false,
     "start_time": "2024-01-15T13:58:44.923083",
     "status": "completed"
    },
    "tags": []
   },
   "outputs": [],
   "source": [
    "columns_to_delete = ['prompt_id','id']\n",
    "train_essays.drop(columns=columns_to_delete, inplace=True)\n",
    "columns_to_delete = ['prompt_id','prompt_name']\n",
    "dataset1.drop(columns=columns_to_delete, inplace=True)"
   ]
  },
  {
   "cell_type": "code",
   "execution_count": 12,
   "id": "437d4a94",
   "metadata": {
    "execution": {
     "iopub.execute_input": "2024-01-15T13:58:44.967960Z",
     "iopub.status.busy": "2024-01-15T13:58:44.967650Z",
     "iopub.status.idle": "2024-01-15T13:58:44.972597Z",
     "shell.execute_reply": "2024-01-15T13:58:44.971803Z"
    },
    "papermill": {
     "duration": 0.017723,
     "end_time": "2024-01-15T13:58:44.974389",
     "exception": false,
     "start_time": "2024-01-15T13:58:44.956666",
     "status": "completed"
    },
    "tags": []
   },
   "outputs": [],
   "source": [
    "train_essays=pd.concat([train_essays,dataset1],ignore_index=True)"
   ]
  },
  {
   "cell_type": "code",
   "execution_count": 13,
   "id": "ece0c535",
   "metadata": {
    "execution": {
     "iopub.execute_input": "2024-01-15T13:58:44.995558Z",
     "iopub.status.busy": "2024-01-15T13:58:44.995295Z",
     "iopub.status.idle": "2024-01-15T13:58:45.005085Z",
     "shell.execute_reply": "2024-01-15T13:58:45.004237Z"
    },
    "papermill": {
     "duration": 0.023169,
     "end_time": "2024-01-15T13:58:45.007457",
     "exception": false,
     "start_time": "2024-01-15T13:58:44.984288",
     "status": "completed"
    },
    "tags": []
   },
   "outputs": [
    {
     "name": "stdout",
     "output_type": "stream",
     "text": [
      "<class 'pandas.core.frame.DataFrame'>\n",
      "RangeIndex: 6278 entries, 0 to 6277\n",
      "Data columns (total 2 columns):\n",
      " #   Column     Non-Null Count  Dtype \n",
      "---  ------     --------------  ----- \n",
      " 0   text       6278 non-null   object\n",
      " 1   generated  6278 non-null   int64 \n",
      "dtypes: int64(1), object(1)\n",
      "memory usage: 98.2+ KB\n"
     ]
    }
   ],
   "source": [
    "train_essays.info()"
   ]
  },
  {
   "cell_type": "code",
   "execution_count": 14,
   "id": "6c8d4f94",
   "metadata": {
    "execution": {
     "iopub.execute_input": "2024-01-15T13:58:45.028364Z",
     "iopub.status.busy": "2024-01-15T13:58:45.028086Z",
     "iopub.status.idle": "2024-01-15T13:58:45.035046Z",
     "shell.execute_reply": "2024-01-15T13:58:45.034230Z"
    },
    "papermill": {
     "duration": 0.019774,
     "end_time": "2024-01-15T13:58:45.037070",
     "exception": false,
     "start_time": "2024-01-15T13:58:45.017296",
     "status": "completed"
    },
    "tags": []
   },
   "outputs": [
    {
     "data": {
      "text/plain": [
       "generated\n",
       "1    4903\n",
       "0    1375\n",
       "Name: count, dtype: int64"
      ]
     },
     "execution_count": 14,
     "metadata": {},
     "output_type": "execute_result"
    }
   ],
   "source": [
    "train_essays[\"generated\"].value_counts()"
   ]
  },
  {
   "cell_type": "code",
   "execution_count": 15,
   "id": "f0a4e39e",
   "metadata": {
    "execution": {
     "iopub.execute_input": "2024-01-15T13:58:45.058736Z",
     "iopub.status.busy": "2024-01-15T13:58:45.058478Z",
     "iopub.status.idle": "2024-01-15T13:58:47.233944Z",
     "shell.execute_reply": "2024-01-15T13:58:47.232945Z"
    },
    "papermill": {
     "duration": 2.189153,
     "end_time": "2024-01-15T13:58:47.236522",
     "exception": false,
     "start_time": "2024-01-15T13:58:45.047369",
     "status": "completed"
    },
    "tags": []
   },
   "outputs": [
    {
     "name": "stdout",
     "output_type": "stream",
     "text": [
      "<class 'pandas.core.frame.DataFrame'>\n",
      "RangeIndex: 44868 entries, 0 to 44867\n",
      "Data columns (total 5 columns):\n",
      " #   Column         Non-Null Count  Dtype \n",
      "---  ------         --------------  ----- \n",
      " 0   text           44868 non-null  object\n",
      " 1   label          44868 non-null  int64 \n",
      " 2   prompt_name    44868 non-null  object\n",
      " 3   source         44868 non-null  object\n",
      " 4   RDizzl3_seven  44868 non-null  bool  \n",
      "dtypes: bool(1), int64(1), object(3)\n",
      "memory usage: 1.4+ MB\n"
     ]
    }
   ],
   "source": [
    "oth_dp=\"/kaggle/input/daigt-v2-train-dataset/train_v2_drcat_02.csv\"\n",
    "dataset2=pd.read_csv(oth_dp)\n",
    "dataset2.info()"
   ]
  },
  {
   "cell_type": "code",
   "execution_count": 16,
   "id": "ac0a99ce",
   "metadata": {
    "execution": {
     "iopub.execute_input": "2024-01-15T13:58:47.261018Z",
     "iopub.status.busy": "2024-01-15T13:58:47.260685Z",
     "iopub.status.idle": "2024-01-15T13:58:47.275475Z",
     "shell.execute_reply": "2024-01-15T13:58:47.274696Z"
    },
    "papermill": {
     "duration": 0.028696,
     "end_time": "2024-01-15T13:58:47.277552",
     "exception": false,
     "start_time": "2024-01-15T13:58:47.248856",
     "status": "completed"
    },
    "tags": []
   },
   "outputs": [],
   "source": [
    "dataset2 = dataset2[dataset2.RDizzl3_seven]\n",
    "columns_to_delete = ['prompt_name','source','RDizzl3_seven']\n",
    "dataset2.drop(columns=columns_to_delete, inplace=True)\n",
    "dataset2=dataset2.rename(columns={\n",
    "    \"text\":\"text\",\n",
    "    \"label\":\"generated\"\n",
    "})"
   ]
  },
  {
   "cell_type": "code",
   "execution_count": 17,
   "id": "5cd42e8f",
   "metadata": {
    "execution": {
     "iopub.execute_input": "2024-01-15T13:58:47.299664Z",
     "iopub.status.busy": "2024-01-15T13:58:47.299375Z",
     "iopub.status.idle": "2024-01-15T13:58:47.304658Z",
     "shell.execute_reply": "2024-01-15T13:58:47.303847Z"
    },
    "papermill": {
     "duration": 0.018877,
     "end_time": "2024-01-15T13:58:47.306911",
     "exception": false,
     "start_time": "2024-01-15T13:58:47.288034",
     "status": "completed"
    },
    "tags": []
   },
   "outputs": [],
   "source": [
    "train_essays=pd.concat([train_essays,dataset2],ignore_index=True)"
   ]
  },
  {
   "cell_type": "code",
   "execution_count": 18,
   "id": "05c6c608",
   "metadata": {
    "execution": {
     "iopub.execute_input": "2024-01-15T13:58:47.328640Z",
     "iopub.status.busy": "2024-01-15T13:58:47.328387Z",
     "iopub.status.idle": "2024-01-15T13:58:47.332325Z",
     "shell.execute_reply": "2024-01-15T13:58:47.331452Z"
    },
    "papermill": {
     "duration": 0.017244,
     "end_time": "2024-01-15T13:58:47.334294",
     "exception": false,
     "start_time": "2024-01-15T13:58:47.317050",
     "status": "completed"
    },
    "tags": []
   },
   "outputs": [],
   "source": [
    "# oth_dp=\"/kaggle/input/daigt-proper-train-dataset/train_drcat_04.csv\"\n",
    "# dataset3=pd.read_csv(oth_dp)\n",
    "# dataset3.info()"
   ]
  },
  {
   "cell_type": "code",
   "execution_count": 19,
   "id": "55d29494",
   "metadata": {
    "execution": {
     "iopub.execute_input": "2024-01-15T13:58:47.356177Z",
     "iopub.status.busy": "2024-01-15T13:58:47.355868Z",
     "iopub.status.idle": "2024-01-15T13:58:47.359943Z",
     "shell.execute_reply": "2024-01-15T13:58:47.359086Z"
    },
    "papermill": {
     "duration": 0.017638,
     "end_time": "2024-01-15T13:58:47.361889",
     "exception": false,
     "start_time": "2024-01-15T13:58:47.344251",
     "status": "completed"
    },
    "tags": []
   },
   "outputs": [],
   "source": [
    "# columns_to_delete = ['essay_id','source','prompt','fold']\n",
    "# dataset3.drop(columns=columns_to_delete, inplace=True)\n",
    "# dataset3=dataset3.rename(columns={\n",
    "#     \"text\":\"text\",\n",
    "#     \"label\":\"generated\"\n",
    "# })\n",
    "# dataset3.info()"
   ]
  },
  {
   "cell_type": "code",
   "execution_count": 20,
   "id": "0c05316c",
   "metadata": {
    "execution": {
     "iopub.execute_input": "2024-01-15T13:58:47.384304Z",
     "iopub.status.busy": "2024-01-15T13:58:47.384002Z",
     "iopub.status.idle": "2024-01-15T13:58:47.387872Z",
     "shell.execute_reply": "2024-01-15T13:58:47.387083Z"
    },
    "papermill": {
     "duration": 0.017233,
     "end_time": "2024-01-15T13:58:47.389787",
     "exception": false,
     "start_time": "2024-01-15T13:58:47.372554",
     "status": "completed"
    },
    "tags": []
   },
   "outputs": [],
   "source": [
    "# train_essays=pd.concat([train_essays,dataset3],ignore_index=True)"
   ]
  },
  {
   "cell_type": "code",
   "execution_count": 21,
   "id": "be7c7f61",
   "metadata": {
    "execution": {
     "iopub.execute_input": "2024-01-15T13:58:47.412584Z",
     "iopub.status.busy": "2024-01-15T13:58:47.412302Z",
     "iopub.status.idle": "2024-01-15T13:58:47.422176Z",
     "shell.execute_reply": "2024-01-15T13:58:47.421449Z"
    },
    "papermill": {
     "duration": 0.023657,
     "end_time": "2024-01-15T13:58:47.424259",
     "exception": false,
     "start_time": "2024-01-15T13:58:47.400602",
     "status": "completed"
    },
    "tags": []
   },
   "outputs": [],
   "source": [
    "train_essays=train_essays.sample(frac=1, random_state=56)"
   ]
  },
  {
   "cell_type": "code",
   "execution_count": 22,
   "id": "025e7bd5",
   "metadata": {
    "execution": {
     "iopub.execute_input": "2024-01-15T13:58:47.447580Z",
     "iopub.status.busy": "2024-01-15T13:58:47.447266Z",
     "iopub.status.idle": "2024-01-15T13:58:47.462116Z",
     "shell.execute_reply": "2024-01-15T13:58:47.460920Z"
    },
    "papermill": {
     "duration": 0.029144,
     "end_time": "2024-01-15T13:58:47.464270",
     "exception": false,
     "start_time": "2024-01-15T13:58:47.435126",
     "status": "completed"
    },
    "tags": []
   },
   "outputs": [
    {
     "name": "stdout",
     "output_type": "stream",
     "text": [
      "<class 'pandas.core.frame.DataFrame'>\n",
      "Index: 26728 entries, 21480 to 2532\n",
      "Data columns (total 2 columns):\n",
      " #   Column     Non-Null Count  Dtype \n",
      "---  ------     --------------  ----- \n",
      " 0   text       26728 non-null  object\n",
      " 1   generated  26728 non-null  int64 \n",
      "dtypes: int64(1), object(1)\n",
      "memory usage: 626.4+ KB\n"
     ]
    }
   ],
   "source": [
    "train_essays.info()"
   ]
  },
  {
   "cell_type": "code",
   "execution_count": 23,
   "id": "e4f1d5c7",
   "metadata": {
    "execution": {
     "iopub.execute_input": "2024-01-15T13:58:47.487290Z",
     "iopub.status.busy": "2024-01-15T13:58:47.486999Z",
     "iopub.status.idle": "2024-01-15T13:58:47.494878Z",
     "shell.execute_reply": "2024-01-15T13:58:47.493943Z"
    },
    "papermill": {
     "duration": 0.021561,
     "end_time": "2024-01-15T13:58:47.496867",
     "exception": false,
     "start_time": "2024-01-15T13:58:47.475306",
     "status": "completed"
    },
    "tags": []
   },
   "outputs": [
    {
     "data": {
      "text/plain": [
       "generated\n",
       "0    15625\n",
       "1    11103\n",
       "Name: count, dtype: int64"
      ]
     },
     "execution_count": 23,
     "metadata": {},
     "output_type": "execute_result"
    }
   ],
   "source": [
    "train_essays[\"generated\"].value_counts()"
   ]
  },
  {
   "cell_type": "code",
   "execution_count": 24,
   "id": "51eac1c8",
   "metadata": {
    "execution": {
     "iopub.execute_input": "2024-01-15T13:58:47.520093Z",
     "iopub.status.busy": "2024-01-15T13:58:47.519819Z",
     "iopub.status.idle": "2024-01-15T13:58:53.946712Z",
     "shell.execute_reply": "2024-01-15T13:58:53.945792Z"
    },
    "papermill": {
     "duration": 6.441397,
     "end_time": "2024-01-15T13:58:53.949319",
     "exception": false,
     "start_time": "2024-01-15T13:58:47.507922",
     "status": "completed"
    },
    "tags": []
   },
   "outputs": [],
   "source": [
    "from tokenizers import (decoders,models,normalizers,pre_tokenizers,processors,trainers,Tokenizer)\n",
    "from tqdm.auto import tqdm\n",
    "from datasets import Dataset\n",
    "from transformers import PreTrainedTokenizerFast"
   ]
  },
  {
   "cell_type": "code",
   "execution_count": 25,
   "id": "f815fe7b",
   "metadata": {
    "execution": {
     "iopub.execute_input": "2024-01-15T13:58:53.972334Z",
     "iopub.status.busy": "2024-01-15T13:58:53.971833Z",
     "iopub.status.idle": "2024-01-15T13:59:48.815855Z",
     "shell.execute_reply": "2024-01-15T13:59:48.814898Z"
    },
    "papermill": {
     "duration": 54.857636,
     "end_time": "2024-01-15T13:59:48.818020",
     "exception": false,
     "start_time": "2024-01-15T13:58:53.960384",
     "status": "completed"
    },
    "tags": []
   },
   "outputs": [
    {
     "name": "stdout",
     "output_type": "stream",
     "text": [
      "\n",
      "\n",
      "\n"
     ]
    },
    {
     "data": {
      "application/vnd.jupyter.widget-view+json": {
       "model_id": "d8d4995ee6004c6ebb8ff26e048c71a7",
       "version_major": 2,
       "version_minor": 0
      },
      "text/plain": [
       "  0%|          | 0/3 [00:00<?, ?it/s]"
      ]
     },
     "metadata": {},
     "output_type": "display_data"
    },
    {
     "data": {
      "application/vnd.jupyter.widget-view+json": {
       "model_id": "60a80e48531d4c1e92a831abc0831e09",
       "version_major": 2,
       "version_minor": 0
      },
      "text/plain": [
       "  0%|          | 0/26728 [00:00<?, ?it/s]"
      ]
     },
     "metadata": {},
     "output_type": "display_data"
    }
   ],
   "source": [
    "\n",
    "LOWERCASE = False\n",
    "VOCAB_SIZE = 3052\n",
    "raw_tokenizer = Tokenizer(models.BPE(unk_token=\"[UNK]\"))\n",
    "raw_tokenizer.normalizer = normalizers.Sequence([normalizers.NFC()] + [normalizers.Lowercase()] if LOWERCASE else [])\n",
    "raw_tokenizer.pre_tokenizer = pre_tokenizers.ByteLevel()\n",
    "special_tokens = [\"[UNK]\", \"[PAD]\", \"[CLS]\", \"[SEP]\", \"[MASK]\"]\n",
    "trainer = trainers.BpeTrainer(vocab_size=VOCAB_SIZE, special_tokens=special_tokens)\n",
    "\n",
    "# Train the tokenizer on extra_train\n",
    "dataset_extra_train = Dataset.from_pandas(train_essays[['text']])\n",
    "def train_corp_iter(): \n",
    "    for i in range(0, len(dataset_extra_train), 1000):\n",
    "        yield dataset_extra_train[i : i + 1000][\"text\"]\n",
    "raw_tokenizer.train_from_iterator(train_corp_iter(), trainer=trainer)\n",
    "\n",
    "tokenizer = PreTrainedTokenizerFast(\n",
    "    tokenizer_object=raw_tokenizer,\n",
    "    unk_token=\"[UNK]\",\n",
    "    pad_token=\"[PAD]\",\n",
    "    cls_token=\"[CLS]\",\n",
    "    sep_token=\"[SEP]\",\n",
    "    mask_token=\"[MASK]\",\n",
    ")\n",
    "\n",
    "final_test = []\n",
    "for text in tqdm(test_essays['text'].tolist()):\n",
    "    final_test.append(tokenizer.tokenize(text))\n",
    "\n",
    "# Tokenization of Extra Train Texts\n",
    "final_train = []\n",
    "for text in tqdm(train_essays['text'].tolist()):\n",
    "    final_train.append(tokenizer.tokenize(text))"
   ]
  },
  {
   "cell_type": "code",
   "execution_count": 26,
   "id": "78e6bf73",
   "metadata": {
    "execution": {
     "iopub.execute_input": "2024-01-15T13:59:48.843231Z",
     "iopub.status.busy": "2024-01-15T13:59:48.842910Z",
     "iopub.status.idle": "2024-01-15T14:00:30.729577Z",
     "shell.execute_reply": "2024-01-15T14:00:30.728446Z"
    },
    "papermill": {
     "duration": 41.957707,
     "end_time": "2024-01-15T14:00:30.788155",
     "exception": false,
     "start_time": "2024-01-15T13:59:48.830448",
     "status": "completed"
    },
    "tags": []
   },
   "outputs": [
    {
     "name": "stderr",
     "output_type": "stream",
     "text": [
      "/opt/conda/lib/python3.10/site-packages/scipy/__init__.py:146: UserWarning: A NumPy version >=1.16.5 and <1.23.0 is required for this version of SciPy (detected version 1.24.3\n",
      "  warnings.warn(f\"A NumPy version >={np_minversion} and <{np_maxversion}\"\n"
     ]
    },
    {
     "data": {
      "text/plain": [
       "23"
      ]
     },
     "execution_count": 26,
     "metadata": {},
     "output_type": "execute_result"
    }
   ],
   "source": [
    "from sklearn.feature_extraction.text import TfidfVectorizer\n",
    "def dummy(text):\n",
    "    return text\n",
    "\n",
    "# Fit the vectorizer on test data\n",
    "vectorizer = TfidfVectorizer(\n",
    "    ngram_range=(3, 5),\n",
    "    lowercase=False,\n",
    "    sublinear_tf=True,\n",
    "    analyzer='word',\n",
    "    tokenizer=dummy,\n",
    "    preprocessor=dummy,\n",
    "    token_pattern=None,\n",
    "    strip_accents='unicode'\n",
    ")\n",
    "\n",
    "vectorizer.fit(final_test)\n",
    "\n",
    "# Getting vocab\n",
    "vocab = vectorizer.vocabulary_\n",
    "# Create a new vectorizer using the vocabulary obtained from test data\n",
    "vectorizer = TfidfVectorizer(\n",
    "    ngram_range=(3, 5),\n",
    "    lowercase=False,\n",
    "    sublinear_tf=True,\n",
    "    vocabulary=vocab,\n",
    "    analyzer='word',\n",
    "    tokenizer=dummy,\n",
    "    preprocessor=dummy,\n",
    "    token_pattern=None,\n",
    "    strip_accents='unicode'\n",
    ")\n",
    "\n",
    "# Fit and transform extra_train and test data\n",
    "x = vectorizer.fit_transform(final_train)\n",
    "test_transform = vectorizer.transform(final_test)\n",
    "\n",
    "# Cleanup\n",
    "import gc\n",
    "del vectorizer\n",
    "gc.collect()"
   ]
  },
  {
   "cell_type": "code",
   "execution_count": 27,
   "id": "77f30419",
   "metadata": {
    "execution": {
     "iopub.execute_input": "2024-01-15T14:00:30.812951Z",
     "iopub.status.busy": "2024-01-15T14:00:30.811959Z",
     "iopub.status.idle": "2024-01-15T14:00:30.816558Z",
     "shell.execute_reply": "2024-01-15T14:00:30.815684Z"
    },
    "papermill": {
     "duration": 0.018793,
     "end_time": "2024-01-15T14:00:30.818479",
     "exception": false,
     "start_time": "2024-01-15T14:00:30.799686",
     "status": "completed"
    },
    "tags": []
   },
   "outputs": [],
   "source": [
    "y=train_essays.generated"
   ]
  },
  {
   "cell_type": "code",
   "execution_count": 28,
   "id": "881de60b",
   "metadata": {
    "execution": {
     "iopub.execute_input": "2024-01-15T14:00:30.841534Z",
     "iopub.status.busy": "2024-01-15T14:00:30.841267Z",
     "iopub.status.idle": "2024-01-15T14:00:30.845726Z",
     "shell.execute_reply": "2024-01-15T14:00:30.844812Z"
    },
    "papermill": {
     "duration": 0.018199,
     "end_time": "2024-01-15T14:00:30.847620",
     "exception": false,
     "start_time": "2024-01-15T14:00:30.829421",
     "status": "completed"
    },
    "tags": []
   },
   "outputs": [],
   "source": [
    "# from sklearn.linear_model import LogisticRegression\n",
    "# from sklearn.naive_bayes import MultinomialNB\n",
    "# from sklearn.linear_model import SGDClassifier\n",
    "# from sklearn.ensemble import VotingClassifier\n",
    "\n",
    "\n",
    "# # Training classifier model\n",
    "# # Logistic Regression model\n",
    "# lr = LogisticRegression(verbose=1)\n",
    "\n",
    "# # Multinomial Naive Bayes model\n",
    "# clf = MultinomialNB(alpha=0.02)\n",
    "\n",
    "# # SGDClassifier models with different hyperparameters\n",
    "# sgd_model = SGDClassifier(max_iter=8000, tol=1e-3, loss=\"modified_huber\")\n",
    "# sgd_model2 = SGDClassifier(max_iter=12000, tol=5e-4, loss=\"modified_huber\", class_weight=\"balanced\")\n",
    "# sgd_model3 = SGDClassifier(max_iter=15000, tol=3e-4, loss=\"modified_huber\", early_stopping=True)\n",
    "\n",
    "# # Ensemble VotingClassifier\n",
    "# final_model = VotingClassifier(\n",
    "#     estimators=[('lr', lr), ('mnb', clf), ('sgd', sgd_model), ('sgd2', sgd_model2), ('sgd3', sgd_model3)],\n",
    "#     weights=[0.20, 0.20, 0.20, 0.20, 0.20],\n",
    "#     voting='soft',\n",
    "#     verbose=1\n",
    "# )\n",
    "\n",
    "# final_model.fit(x,y)"
   ]
  },
  {
   "cell_type": "code",
   "execution_count": 29,
   "id": "161c35ed",
   "metadata": {
    "_kg_hide-input": false,
    "execution": {
     "iopub.execute_input": "2024-01-15T14:00:30.871563Z",
     "iopub.status.busy": "2024-01-15T14:00:30.871286Z",
     "iopub.status.idle": "2024-01-15T14:00:41.243102Z",
     "shell.execute_reply": "2024-01-15T14:00:41.241723Z"
    },
    "papermill": {
     "duration": 10.386626,
     "end_time": "2024-01-15T14:00:41.245542",
     "exception": false,
     "start_time": "2024-01-15T14:00:30.858916",
     "status": "completed"
    },
    "tags": []
   },
   "outputs": [
    {
     "name": "stderr",
     "output_type": "stream",
     "text": [
      "/opt/conda/lib/python3.10/site-packages/dask/dataframe/_pyarrow_compat.py:23: UserWarning: You are using pyarrow version 11.0.0 which is known to be insecure. See https://www.cve.org/CVERecord?id=CVE-2023-47248 for further details. Please upgrade to pyarrow>=14.0.1 or install pyarrow-hotfix to patch your current version.\n",
      "  warnings.warn(\n",
      "huggingface/tokenizers: The current process just got forked, after parallelism has already been used. Disabling parallelism to avoid deadlocks...\n",
      "To disable this warning, you can either:\n",
      "\t- Avoid using `tokenizers` before the fork if possible\n",
      "\t- Explicitly set the environment variable TOKENIZERS_PARALLELISM=(true | false)\n",
      "huggingface/tokenizers: The current process just got forked, after parallelism has already been used. Disabling parallelism to avoid deadlocks...\n",
      "To disable this warning, you can either:\n",
      "\t- Avoid using `tokenizers` before the fork if possible\n",
      "\t- Explicitly set the environment variable TOKENIZERS_PARALLELISM=(true | false)\n",
      "huggingface/tokenizers: The current process just got forked, after parallelism has already been used. Disabling parallelism to avoid deadlocks...\n",
      "To disable this warning, you can either:\n",
      "\t- Avoid using `tokenizers` before the fork if possible\n",
      "\t- Explicitly set the environment variable TOKENIZERS_PARALLELISM=(true | false)\n",
      "huggingface/tokenizers: The current process just got forked, after parallelism has already been used. Disabling parallelism to avoid deadlocks...\n",
      "To disable this warning, you can either:\n",
      "\t- Avoid using `tokenizers` before the fork if possible\n",
      "\t- Explicitly set the environment variable TOKENIZERS_PARALLELISM=(true | false)\n",
      "huggingface/tokenizers: The current process just got forked, after parallelism has already been used. Disabling parallelism to avoid deadlocks...\n",
      "To disable this warning, you can either:\n",
      "\t- Avoid using `tokenizers` before the fork if possible\n",
      "\t- Explicitly set the environment variable TOKENIZERS_PARALLELISM=(true | false)\n",
      "/opt/conda/lib/python3.10/site-packages/scipy/__init__.py:146: UserWarning: A NumPy version >=1.16.5 and <1.23.0 is required for this version of SciPy (detected version 1.24.3\n",
      "  warnings.warn(f\"A NumPy version >={np_minversion} and <{np_maxversion}\"\n",
      "/opt/conda/lib/python3.10/site-packages/scipy/__init__.py:146: UserWarning: A NumPy version >=1.16.5 and <1.23.0 is required for this version of SciPy (detected version 1.24.3\n",
      "  warnings.warn(f\"A NumPy version >={np_minversion} and <{np_maxversion}\"\n",
      "/opt/conda/lib/python3.10/site-packages/scipy/__init__.py:146: UserWarning: A NumPy version >=1.16.5 and <1.23.0 is required for this version of SciPy (detected version 1.24.3\n",
      "  warnings.warn(f\"A NumPy version >={np_minversion} and <{np_maxversion}\"\n",
      "/opt/conda/lib/python3.10/site-packages/scipy/__init__.py:146: UserWarning: A NumPy version >=1.16.5 and <1.23.0 is required for this version of SciPy (detected version 1.24.3\n",
      "  warnings.warn(f\"A NumPy version >={np_minversion} and <{np_maxversion}\"\n",
      "/opt/conda/lib/python3.10/site-packages/dask/dataframe/_pyarrow_compat.py:23: UserWarning: You are using pyarrow version 11.0.0 which is known to be insecure. See https://www.cve.org/CVERecord?id=CVE-2023-47248 for further details. Please upgrade to pyarrow>=14.0.1 or install pyarrow-hotfix to patch your current version.\n",
      "  warnings.warn(\n",
      "/opt/conda/lib/python3.10/site-packages/lightgbm/engine.py:177: UserWarning: Found `n_iter` in params. Will use it instead of argument\n",
      "  _log_warning(f\"Found `{alias}` in params. Will use it instead of argument\")\n"
     ]
    },
    {
     "data": {
      "text/html": [
       "<style>#sk-container-id-1 {color: black;background-color: white;}#sk-container-id-1 pre{padding: 0;}#sk-container-id-1 div.sk-toggleable {background-color: white;}#sk-container-id-1 label.sk-toggleable__label {cursor: pointer;display: block;width: 100%;margin-bottom: 0;padding: 0.3em;box-sizing: border-box;text-align: center;}#sk-container-id-1 label.sk-toggleable__label-arrow:before {content: \"▸\";float: left;margin-right: 0.25em;color: #696969;}#sk-container-id-1 label.sk-toggleable__label-arrow:hover:before {color: black;}#sk-container-id-1 div.sk-estimator:hover label.sk-toggleable__label-arrow:before {color: black;}#sk-container-id-1 div.sk-toggleable__content {max-height: 0;max-width: 0;overflow: hidden;text-align: left;background-color: #f0f8ff;}#sk-container-id-1 div.sk-toggleable__content pre {margin: 0.2em;color: black;border-radius: 0.25em;background-color: #f0f8ff;}#sk-container-id-1 input.sk-toggleable__control:checked~div.sk-toggleable__content {max-height: 200px;max-width: 100%;overflow: auto;}#sk-container-id-1 input.sk-toggleable__control:checked~label.sk-toggleable__label-arrow:before {content: \"▾\";}#sk-container-id-1 div.sk-estimator input.sk-toggleable__control:checked~label.sk-toggleable__label {background-color: #d4ebff;}#sk-container-id-1 div.sk-label input.sk-toggleable__control:checked~label.sk-toggleable__label {background-color: #d4ebff;}#sk-container-id-1 input.sk-hidden--visually {border: 0;clip: rect(1px 1px 1px 1px);clip: rect(1px, 1px, 1px, 1px);height: 1px;margin: -1px;overflow: hidden;padding: 0;position: absolute;width: 1px;}#sk-container-id-1 div.sk-estimator {font-family: monospace;background-color: #f0f8ff;border: 1px dotted black;border-radius: 0.25em;box-sizing: border-box;margin-bottom: 0.5em;}#sk-container-id-1 div.sk-estimator:hover {background-color: #d4ebff;}#sk-container-id-1 div.sk-parallel-item::after {content: \"\";width: 100%;border-bottom: 1px solid gray;flex-grow: 1;}#sk-container-id-1 div.sk-label:hover label.sk-toggleable__label {background-color: #d4ebff;}#sk-container-id-1 div.sk-serial::before {content: \"\";position: absolute;border-left: 1px solid gray;box-sizing: border-box;top: 0;bottom: 0;left: 50%;z-index: 0;}#sk-container-id-1 div.sk-serial {display: flex;flex-direction: column;align-items: center;background-color: white;padding-right: 0.2em;padding-left: 0.2em;position: relative;}#sk-container-id-1 div.sk-item {position: relative;z-index: 1;}#sk-container-id-1 div.sk-parallel {display: flex;align-items: stretch;justify-content: center;background-color: white;position: relative;}#sk-container-id-1 div.sk-item::before, #sk-container-id-1 div.sk-parallel-item::before {content: \"\";position: absolute;border-left: 1px solid gray;box-sizing: border-box;top: 0;bottom: 0;left: 50%;z-index: -1;}#sk-container-id-1 div.sk-parallel-item {display: flex;flex-direction: column;z-index: 1;position: relative;background-color: white;}#sk-container-id-1 div.sk-parallel-item:first-child::after {align-self: flex-end;width: 50%;}#sk-container-id-1 div.sk-parallel-item:last-child::after {align-self: flex-start;width: 50%;}#sk-container-id-1 div.sk-parallel-item:only-child::after {width: 0;}#sk-container-id-1 div.sk-dashed-wrapped {border: 1px dashed gray;margin: 0 0.4em 0.5em 0.4em;box-sizing: border-box;padding-bottom: 0.4em;background-color: white;}#sk-container-id-1 div.sk-label label {font-family: monospace;font-weight: bold;display: inline-block;line-height: 1.2em;}#sk-container-id-1 div.sk-label-container {text-align: center;}#sk-container-id-1 div.sk-container {/* jupyter's `normalize.less` sets `[hidden] { display: none; }` but bootstrap.min.css set `[hidden] { display: none !important; }` so we also need the `!important` here to be able to override the default hidden behavior on the sphinx rendered scikit-learn.org. See: https://github.com/scikit-learn/scikit-learn/issues/21755 */display: inline-block !important;position: relative;}#sk-container-id-1 div.sk-text-repr-fallback {display: none;}</style><div id=\"sk-container-id-1\" class=\"sk-top-container\"><div class=\"sk-text-repr-fallback\"><pre>VotingClassifier(estimators=[(&#x27;mnb&#x27;, MultinomialNB(alpha=0.02)),\n",
       "                             (&#x27;sgd&#x27;,\n",
       "                              SGDClassifier(loss=&#x27;modified_huber&#x27;,\n",
       "                                            max_iter=8000, tol=0.0001)),\n",
       "                             (&#x27;lgb&#x27;,\n",
       "                              LGBMClassifier(colsample_bynode=0.5803681307354022,\n",
       "                                             colsample_bytree=0.726023996436955,\n",
       "                                             lambda_l1=8.562963348932286,\n",
       "                                             lambda_l2=4.893256185259296,\n",
       "                                             learning_rate=0.05073909898961407,\n",
       "                                             max_bin=898, max_depth=23,\n",
       "                                             metric=&#x27;auc&#x27;, min_data_in_leaf=115,\n",
       "                                             n_iter=1500, objective=&#x27;binary&#x27;,\n",
       "                                             verbose=-1)),\n",
       "                             (&#x27;cat&#x27;,\n",
       "                              &lt;catboost.core.CatBoostClassifier object at 0x7d71ce725ed0&gt;)],\n",
       "                 n_jobs=-1, voting=&#x27;soft&#x27;, weights=[0.07, 0.41, 0.41, 0.41])</pre><b>In a Jupyter environment, please rerun this cell to show the HTML representation or trust the notebook. <br />On GitHub, the HTML representation is unable to render, please try loading this page with nbviewer.org.</b></div><div class=\"sk-container\" hidden><div class=\"sk-item sk-dashed-wrapped\"><div class=\"sk-label-container\"><div class=\"sk-label sk-toggleable\"><input class=\"sk-toggleable__control sk-hidden--visually\" id=\"sk-estimator-id-1\" type=\"checkbox\" ><label for=\"sk-estimator-id-1\" class=\"sk-toggleable__label sk-toggleable__label-arrow\">VotingClassifier</label><div class=\"sk-toggleable__content\"><pre>VotingClassifier(estimators=[(&#x27;mnb&#x27;, MultinomialNB(alpha=0.02)),\n",
       "                             (&#x27;sgd&#x27;,\n",
       "                              SGDClassifier(loss=&#x27;modified_huber&#x27;,\n",
       "                                            max_iter=8000, tol=0.0001)),\n",
       "                             (&#x27;lgb&#x27;,\n",
       "                              LGBMClassifier(colsample_bynode=0.5803681307354022,\n",
       "                                             colsample_bytree=0.726023996436955,\n",
       "                                             lambda_l1=8.562963348932286,\n",
       "                                             lambda_l2=4.893256185259296,\n",
       "                                             learning_rate=0.05073909898961407,\n",
       "                                             max_bin=898, max_depth=23,\n",
       "                                             metric=&#x27;auc&#x27;, min_data_in_leaf=115,\n",
       "                                             n_iter=1500, objective=&#x27;binary&#x27;,\n",
       "                                             verbose=-1)),\n",
       "                             (&#x27;cat&#x27;,\n",
       "                              &lt;catboost.core.CatBoostClassifier object at 0x7d71ce725ed0&gt;)],\n",
       "                 n_jobs=-1, voting=&#x27;soft&#x27;, weights=[0.07, 0.41, 0.41, 0.41])</pre></div></div></div><div class=\"sk-parallel\"><div class=\"sk-parallel-item\"><div class=\"sk-item\"><div class=\"sk-label-container\"><div class=\"sk-label sk-toggleable\"><label>mnb</label></div></div><div class=\"sk-serial\"><div class=\"sk-item\"><div class=\"sk-estimator sk-toggleable\"><input class=\"sk-toggleable__control sk-hidden--visually\" id=\"sk-estimator-id-2\" type=\"checkbox\" ><label for=\"sk-estimator-id-2\" class=\"sk-toggleable__label sk-toggleable__label-arrow\">MultinomialNB</label><div class=\"sk-toggleable__content\"><pre>MultinomialNB(alpha=0.02)</pre></div></div></div></div></div></div><div class=\"sk-parallel-item\"><div class=\"sk-item\"><div class=\"sk-label-container\"><div class=\"sk-label sk-toggleable\"><label>sgd</label></div></div><div class=\"sk-serial\"><div class=\"sk-item\"><div class=\"sk-estimator sk-toggleable\"><input class=\"sk-toggleable__control sk-hidden--visually\" id=\"sk-estimator-id-3\" type=\"checkbox\" ><label for=\"sk-estimator-id-3\" class=\"sk-toggleable__label sk-toggleable__label-arrow\">SGDClassifier</label><div class=\"sk-toggleable__content\"><pre>SGDClassifier(loss=&#x27;modified_huber&#x27;, max_iter=8000, tol=0.0001)</pre></div></div></div></div></div></div><div class=\"sk-parallel-item\"><div class=\"sk-item\"><div class=\"sk-label-container\"><div class=\"sk-label sk-toggleable\"><label>lgb</label></div></div><div class=\"sk-serial\"><div class=\"sk-item\"><div class=\"sk-estimator sk-toggleable\"><input class=\"sk-toggleable__control sk-hidden--visually\" id=\"sk-estimator-id-4\" type=\"checkbox\" ><label for=\"sk-estimator-id-4\" class=\"sk-toggleable__label sk-toggleable__label-arrow\">LGBMClassifier</label><div class=\"sk-toggleable__content\"><pre>LGBMClassifier(colsample_bynode=0.5803681307354022,\n",
       "               colsample_bytree=0.726023996436955, lambda_l1=8.562963348932286,\n",
       "               lambda_l2=4.893256185259296, learning_rate=0.05073909898961407,\n",
       "               max_bin=898, max_depth=23, metric=&#x27;auc&#x27;, min_data_in_leaf=115,\n",
       "               n_iter=1500, objective=&#x27;binary&#x27;, verbose=-1)</pre></div></div></div></div></div></div><div class=\"sk-parallel-item\"><div class=\"sk-item\"><div class=\"sk-label-container\"><div class=\"sk-label sk-toggleable\"><label>cat</label></div></div><div class=\"sk-serial\"><div class=\"sk-item\"><div class=\"sk-estimator sk-toggleable\"><input class=\"sk-toggleable__control sk-hidden--visually\" id=\"sk-estimator-id-5\" type=\"checkbox\" ><label for=\"sk-estimator-id-5\" class=\"sk-toggleable__label sk-toggleable__label-arrow\">CatBoostClassifier</label><div class=\"sk-toggleable__content\"><pre>&lt;catboost.core.CatBoostClassifier object at 0x7d71ce725ed0&gt;</pre></div></div></div></div></div></div></div></div></div></div>"
      ],
      "text/plain": [
       "VotingClassifier(estimators=[('mnb', MultinomialNB(alpha=0.02)),\n",
       "                             ('sgd',\n",
       "                              SGDClassifier(loss='modified_huber',\n",
       "                                            max_iter=8000, tol=0.0001)),\n",
       "                             ('lgb',\n",
       "                              LGBMClassifier(colsample_bynode=0.5803681307354022,\n",
       "                                             colsample_bytree=0.726023996436955,\n",
       "                                             lambda_l1=8.562963348932286,\n",
       "                                             lambda_l2=4.893256185259296,\n",
       "                                             learning_rate=0.05073909898961407,\n",
       "                                             max_bin=898, max_depth=23,\n",
       "                                             metric='auc', min_data_in_leaf=115,\n",
       "                                             n_iter=1500, objective='binary',\n",
       "                                             verbose=-1)),\n",
       "                             ('cat',\n",
       "                              <catboost.core.CatBoostClassifier object at 0x7d71ce725ed0>)],\n",
       "                 n_jobs=-1, voting='soft', weights=[0.07, 0.41, 0.41, 0.41])"
      ]
     },
     "execution_count": 29,
     "metadata": {},
     "output_type": "execute_result"
    }
   ],
   "source": [
    "#from sklearn.linear_model import LogisticRegression\n",
    "from sklearn.naive_bayes import MultinomialNB\n",
    "from sklearn.linear_model import SGDClassifier\n",
    "from sklearn.ensemble import VotingClassifier\n",
    "from lightgbm import LGBMClassifier\n",
    "from catboost import CatBoostClassifier\n",
    "\n",
    "\n",
    "clf = MultinomialNB(alpha=0.02)\n",
    "sgd_model = SGDClassifier(max_iter=8000, tol=1e-4, loss=\"modified_huber\") \n",
    "p6 = {\n",
    "        'n_iter': 1500,\n",
    "        'verbose': -1,\n",
    "        'objective': 'binary',\n",
    "        'metric': 'auc',\n",
    "        'learning_rate': 0.05073909898961407,\n",
    "        'colsample_bytree': 0.726023996436955,\n",
    "        'colsample_bynode': 0.5803681307354022,\n",
    "        'lambda_l1': 8.562963348932286,\n",
    "        'lambda_l2': 4.893256185259296,\n",
    "        'min_data_in_leaf': 115,\n",
    "        'max_depth': 23,\n",
    "        'max_bin': 898\n",
    "    }\n",
    "lgb = LGBMClassifier(**p6)\n",
    "cat = CatBoostClassifier(\n",
    "        iterations=1000,\n",
    "        verbose=0,\n",
    "        l2_leaf_reg=6.6591278779517808,\n",
    "        learning_rate=0.005689066836106983/2,\n",
    "        allow_const_label=True,\n",
    "        loss_function = 'CrossEntropy',\n",
    "        random_seed=1234\n",
    "    )\n",
    "    \n",
    "weights = [0.07, 0.41, 0.41, 0.41]\n",
    "final_model = VotingClassifier(\n",
    "        estimators=[\n",
    "            ('mnb', clf),\n",
    "            ('sgd', sgd_model),\n",
    "            ('lgb', lgb), \n",
    "            ('cat', cat)\n",
    "        ],\n",
    "        weights=weights, voting='soft', n_jobs=-1\n",
    "    )\n",
    "\n",
    "final_model.fit(x,y)\n"
   ]
  },
  {
   "cell_type": "code",
   "execution_count": 30,
   "id": "c8357612",
   "metadata": {
    "execution": {
     "iopub.execute_input": "2024-01-15T14:00:41.274445Z",
     "iopub.status.busy": "2024-01-15T14:00:41.274089Z",
     "iopub.status.idle": "2024-01-15T14:00:41.294040Z",
     "shell.execute_reply": "2024-01-15T14:00:41.293167Z"
    },
    "papermill": {
     "duration": 0.036585,
     "end_time": "2024-01-15T14:00:41.296077",
     "exception": false,
     "start_time": "2024-01-15T14:00:41.259492",
     "status": "completed"
    },
    "tags": []
   },
   "outputs": [
    {
     "data": {
      "text/plain": [
       "array([[0.59420745, 0.40579255],\n",
       "       [0.59347846, 0.40652154],\n",
       "       [0.58522331, 0.41477669]])"
      ]
     },
     "execution_count": 30,
     "metadata": {},
     "output_type": "execute_result"
    }
   ],
   "source": [
    "y_probs = final_model.predict_proba(test_transform)\n",
    "y_probs"
   ]
  },
  {
   "cell_type": "code",
   "execution_count": 31,
   "id": "fdcd408b",
   "metadata": {
    "execution": {
     "iopub.execute_input": "2024-01-15T14:00:41.323117Z",
     "iopub.status.busy": "2024-01-15T14:00:41.322843Z",
     "iopub.status.idle": "2024-01-15T14:00:41.328793Z",
     "shell.execute_reply": "2024-01-15T14:00:41.327902Z"
    },
    "papermill": {
     "duration": 0.021555,
     "end_time": "2024-01-15T14:00:41.330666",
     "exception": false,
     "start_time": "2024-01-15T14:00:41.309111",
     "status": "completed"
    },
    "tags": []
   },
   "outputs": [
    {
     "data": {
      "text/plain": [
       "[0.40579254718044167, 0.40652153906587407, 0.41477669466419154]"
      ]
     },
     "execution_count": 31,
     "metadata": {},
     "output_type": "execute_result"
    }
   ],
   "source": [
    "y_gen_prob =[y[1] for y in y_probs]\n",
    "y_gen_prob"
   ]
  },
  {
   "cell_type": "code",
   "execution_count": 32,
   "id": "58dac27c",
   "metadata": {
    "execution": {
     "iopub.execute_input": "2024-01-15T14:00:41.357952Z",
     "iopub.status.busy": "2024-01-15T14:00:41.357559Z",
     "iopub.status.idle": "2024-01-15T14:00:41.375903Z",
     "shell.execute_reply": "2024-01-15T14:00:41.374933Z"
    },
    "papermill": {
     "duration": 0.034315,
     "end_time": "2024-01-15T14:00:41.377984",
     "exception": false,
     "start_time": "2024-01-15T14:00:41.343669",
     "status": "completed"
    },
    "tags": []
   },
   "outputs": [
    {
     "data": {
      "text/html": [
       "<div>\n",
       "<style scoped>\n",
       "    .dataframe tbody tr th:only-of-type {\n",
       "        vertical-align: middle;\n",
       "    }\n",
       "\n",
       "    .dataframe tbody tr th {\n",
       "        vertical-align: top;\n",
       "    }\n",
       "\n",
       "    .dataframe thead th {\n",
       "        text-align: right;\n",
       "    }\n",
       "</style>\n",
       "<table border=\"1\" class=\"dataframe\">\n",
       "  <thead>\n",
       "    <tr style=\"text-align: right;\">\n",
       "      <th></th>\n",
       "      <th>id</th>\n",
       "      <th>generated</th>\n",
       "    </tr>\n",
       "  </thead>\n",
       "  <tbody>\n",
       "    <tr>\n",
       "      <th>0</th>\n",
       "      <td>0000aaaa</td>\n",
       "      <td>0.405793</td>\n",
       "    </tr>\n",
       "    <tr>\n",
       "      <th>1</th>\n",
       "      <td>1111bbbb</td>\n",
       "      <td>0.406522</td>\n",
       "    </tr>\n",
       "    <tr>\n",
       "      <th>2</th>\n",
       "      <td>2222cccc</td>\n",
       "      <td>0.414777</td>\n",
       "    </tr>\n",
       "  </tbody>\n",
       "</table>\n",
       "</div>"
      ],
      "text/plain": [
       "         id  generated\n",
       "0  0000aaaa   0.405793\n",
       "1  1111bbbb   0.406522\n",
       "2  2222cccc   0.414777"
      ]
     },
     "execution_count": 32,
     "metadata": {},
     "output_type": "execute_result"
    }
   ],
   "source": [
    "sub = test_essays[[\"id\"]].copy()\n",
    "\n",
    "sub[\"generated\"] = y_gen_prob\n",
    "\n",
    "# Save Submission\n",
    "sub.to_csv('submission.csv',index=False)\n",
    "\n",
    "sub.head()"
   ]
  },
  {
   "cell_type": "markdown",
   "id": "8f2b952a",
   "metadata": {
    "papermill": {
     "duration": 0.013396,
     "end_time": "2024-01-15T14:00:41.405060",
     "exception": false,
     "start_time": "2024-01-15T14:00:41.391664",
     "status": "completed"
    },
    "tags": []
   },
   "source": [
    "0\t0000aaaa\t0.539238\n",
    "1\t1111bbbb\t0.570501\n",
    "2\t2222cccc\t0.570501"
   ]
  }
 ],
 "metadata": {
  "kaggle": {
   "accelerator": "nvidiaTeslaT4",
   "dataSources": [
    {
     "databundleVersionId": 6888007,
     "sourceId": 61542,
     "sourceType": "competition"
    },
    {
     "datasetId": 3942644,
     "sourceId": 6890527,
     "sourceType": "datasetVersion"
    },
    {
     "datasetId": 4005256,
     "sourceId": 6977472,
     "sourceType": "datasetVersion"
    },
    {
     "datasetId": 4039374,
     "sourceId": 7082713,
     "sourceType": "datasetVersion"
    },
    {
     "modelInstanceId": 4689,
     "sourceId": 5916,
     "sourceType": "modelInstanceVersion"
    }
   ],
   "dockerImageVersionId": 30626,
   "isGpuEnabled": true,
   "isInternetEnabled": false,
   "language": "python",
   "sourceType": "notebook"
  },
  "kernelspec": {
   "display_name": "Python 3",
   "language": "python",
   "name": "python3"
  },
  "language_info": {
   "codemirror_mode": {
    "name": "ipython",
    "version": 3
   },
   "file_extension": ".py",
   "mimetype": "text/x-python",
   "name": "python",
   "nbconvert_exporter": "python",
   "pygments_lexer": "ipython3",
   "version": "3.10.12"
  },
  "papermill": {
   "default_parameters": {},
   "duration": 124.570557,
   "end_time": "2024-01-15T14:00:44.138953",
   "environment_variables": {},
   "exception": null,
   "input_path": "__notebook__.ipynb",
   "output_path": "__notebook__.ipynb",
   "parameters": {},
   "start_time": "2024-01-15T13:58:39.568396",
   "version": "2.4.0"
  },
  "widgets": {
   "application/vnd.jupyter.widget-state+json": {
    "state": {
     "0530be95465d45d88a6d91d68b6640cb": {
      "model_module": "@jupyter-widgets/controls",
      "model_module_version": "1.5.0",
      "model_name": "ProgressStyleModel",
      "state": {
       "_model_module": "@jupyter-widgets/controls",
       "_model_module_version": "1.5.0",
       "_model_name": "ProgressStyleModel",
       "_view_count": null,
       "_view_module": "@jupyter-widgets/base",
       "_view_module_version": "1.2.0",
       "_view_name": "StyleView",
       "bar_color": null,
       "description_width": ""
      }
     },
     "0b59ebee682b432ba7c762a08cdc15ea": {
      "model_module": "@jupyter-widgets/base",
      "model_module_version": "1.2.0",
      "model_name": "LayoutModel",
      "state": {
       "_model_module": "@jupyter-widgets/base",
       "_model_module_version": "1.2.0",
       "_model_name": "LayoutModel",
       "_view_count": null,
       "_view_module": "@jupyter-widgets/base",
       "_view_module_version": "1.2.0",
       "_view_name": "LayoutView",
       "align_content": null,
       "align_items": null,
       "align_self": null,
       "border": null,
       "bottom": null,
       "display": null,
       "flex": null,
       "flex_flow": null,
       "grid_area": null,
       "grid_auto_columns": null,
       "grid_auto_flow": null,
       "grid_auto_rows": null,
       "grid_column": null,
       "grid_gap": null,
       "grid_row": null,
       "grid_template_areas": null,
       "grid_template_columns": null,
       "grid_template_rows": null,
       "height": null,
       "justify_content": null,
       "justify_items": null,
       "left": null,
       "margin": null,
       "max_height": null,
       "max_width": null,
       "min_height": null,
       "min_width": null,
       "object_fit": null,
       "object_position": null,
       "order": null,
       "overflow": null,
       "overflow_x": null,
       "overflow_y": null,
       "padding": null,
       "right": null,
       "top": null,
       "visibility": null,
       "width": null
      }
     },
     "13110e49081f4943a98d3ea31d58a1be": {
      "model_module": "@jupyter-widgets/controls",
      "model_module_version": "1.5.0",
      "model_name": "ProgressStyleModel",
      "state": {
       "_model_module": "@jupyter-widgets/controls",
       "_model_module_version": "1.5.0",
       "_model_name": "ProgressStyleModel",
       "_view_count": null,
       "_view_module": "@jupyter-widgets/base",
       "_view_module_version": "1.2.0",
       "_view_name": "StyleView",
       "bar_color": null,
       "description_width": ""
      }
     },
     "1d4fd04683274dd881f3261936fb17de": {
      "model_module": "@jupyter-widgets/base",
      "model_module_version": "1.2.0",
      "model_name": "LayoutModel",
      "state": {
       "_model_module": "@jupyter-widgets/base",
       "_model_module_version": "1.2.0",
       "_model_name": "LayoutModel",
       "_view_count": null,
       "_view_module": "@jupyter-widgets/base",
       "_view_module_version": "1.2.0",
       "_view_name": "LayoutView",
       "align_content": null,
       "align_items": null,
       "align_self": null,
       "border": null,
       "bottom": null,
       "display": null,
       "flex": null,
       "flex_flow": null,
       "grid_area": null,
       "grid_auto_columns": null,
       "grid_auto_flow": null,
       "grid_auto_rows": null,
       "grid_column": null,
       "grid_gap": null,
       "grid_row": null,
       "grid_template_areas": null,
       "grid_template_columns": null,
       "grid_template_rows": null,
       "height": null,
       "justify_content": null,
       "justify_items": null,
       "left": null,
       "margin": null,
       "max_height": null,
       "max_width": null,
       "min_height": null,
       "min_width": null,
       "object_fit": null,
       "object_position": null,
       "order": null,
       "overflow": null,
       "overflow_x": null,
       "overflow_y": null,
       "padding": null,
       "right": null,
       "top": null,
       "visibility": null,
       "width": null
      }
     },
     "60a80e48531d4c1e92a831abc0831e09": {
      "model_module": "@jupyter-widgets/controls",
      "model_module_version": "1.5.0",
      "model_name": "HBoxModel",
      "state": {
       "_dom_classes": [],
       "_model_module": "@jupyter-widgets/controls",
       "_model_module_version": "1.5.0",
       "_model_name": "HBoxModel",
       "_view_count": null,
       "_view_module": "@jupyter-widgets/controls",
       "_view_module_version": "1.5.0",
       "_view_name": "HBoxView",
       "box_style": "",
       "children": [
        "IPY_MODEL_8c2525b02e41406b802a85fff52612cd",
        "IPY_MODEL_f6ec8f88b1cf4ac1834ffd0aea3b3bab",
        "IPY_MODEL_72b3db71ee8a4d35b87fd2270f1517c0"
       ],
       "layout": "IPY_MODEL_d636f42cdf5f41659555ab54fc01a2be"
      }
     },
     "62778166e063435f8c3d4950274cbdde": {
      "model_module": "@jupyter-widgets/controls",
      "model_module_version": "1.5.0",
      "model_name": "HTMLModel",
      "state": {
       "_dom_classes": [],
       "_model_module": "@jupyter-widgets/controls",
       "_model_module_version": "1.5.0",
       "_model_name": "HTMLModel",
       "_view_count": null,
       "_view_module": "@jupyter-widgets/controls",
       "_view_module_version": "1.5.0",
       "_view_name": "HTMLView",
       "description": "",
       "description_tooltip": null,
       "layout": "IPY_MODEL_9845843fba984c878220de6003ca2fd3",
       "placeholder": "​",
       "style": "IPY_MODEL_7d7a8d4e88c542258d7acfb1d6abdcb5",
       "value": "100%"
      }
     },
     "62f853716df04ecc89a9b94732e4678f": {
      "model_module": "@jupyter-widgets/base",
      "model_module_version": "1.2.0",
      "model_name": "LayoutModel",
      "state": {
       "_model_module": "@jupyter-widgets/base",
       "_model_module_version": "1.2.0",
       "_model_name": "LayoutModel",
       "_view_count": null,
       "_view_module": "@jupyter-widgets/base",
       "_view_module_version": "1.2.0",
       "_view_name": "LayoutView",
       "align_content": null,
       "align_items": null,
       "align_self": null,
       "border": null,
       "bottom": null,
       "display": null,
       "flex": null,
       "flex_flow": null,
       "grid_area": null,
       "grid_auto_columns": null,
       "grid_auto_flow": null,
       "grid_auto_rows": null,
       "grid_column": null,
       "grid_gap": null,
       "grid_row": null,
       "grid_template_areas": null,
       "grid_template_columns": null,
       "grid_template_rows": null,
       "height": null,
       "justify_content": null,
       "justify_items": null,
       "left": null,
       "margin": null,
       "max_height": null,
       "max_width": null,
       "min_height": null,
       "min_width": null,
       "object_fit": null,
       "object_position": null,
       "order": null,
       "overflow": null,
       "overflow_x": null,
       "overflow_y": null,
       "padding": null,
       "right": null,
       "top": null,
       "visibility": null,
       "width": null
      }
     },
     "705d2c5566044267a880d278f8cd5ea8": {
      "model_module": "@jupyter-widgets/base",
      "model_module_version": "1.2.0",
      "model_name": "LayoutModel",
      "state": {
       "_model_module": "@jupyter-widgets/base",
       "_model_module_version": "1.2.0",
       "_model_name": "LayoutModel",
       "_view_count": null,
       "_view_module": "@jupyter-widgets/base",
       "_view_module_version": "1.2.0",
       "_view_name": "LayoutView",
       "align_content": null,
       "align_items": null,
       "align_self": null,
       "border": null,
       "bottom": null,
       "display": null,
       "flex": null,
       "flex_flow": null,
       "grid_area": null,
       "grid_auto_columns": null,
       "grid_auto_flow": null,
       "grid_auto_rows": null,
       "grid_column": null,
       "grid_gap": null,
       "grid_row": null,
       "grid_template_areas": null,
       "grid_template_columns": null,
       "grid_template_rows": null,
       "height": null,
       "justify_content": null,
       "justify_items": null,
       "left": null,
       "margin": null,
       "max_height": null,
       "max_width": null,
       "min_height": null,
       "min_width": null,
       "object_fit": null,
       "object_position": null,
       "order": null,
       "overflow": null,
       "overflow_x": null,
       "overflow_y": null,
       "padding": null,
       "right": null,
       "top": null,
       "visibility": null,
       "width": null
      }
     },
     "72b3db71ee8a4d35b87fd2270f1517c0": {
      "model_module": "@jupyter-widgets/controls",
      "model_module_version": "1.5.0",
      "model_name": "HTMLModel",
      "state": {
       "_dom_classes": [],
       "_model_module": "@jupyter-widgets/controls",
       "_model_module_version": "1.5.0",
       "_model_name": "HTMLModel",
       "_view_count": null,
       "_view_module": "@jupyter-widgets/controls",
       "_view_module_version": "1.5.0",
       "_view_name": "HTMLView",
       "description": "",
       "description_tooltip": null,
       "layout": "IPY_MODEL_62f853716df04ecc89a9b94732e4678f",
       "placeholder": "​",
       "style": "IPY_MODEL_9d329784d2b447858c92d080a2c20bd5",
       "value": " 26728/26728 [00:43&lt;00:00, 607.27it/s]"
      }
     },
     "7d7a8d4e88c542258d7acfb1d6abdcb5": {
      "model_module": "@jupyter-widgets/controls",
      "model_module_version": "1.5.0",
      "model_name": "DescriptionStyleModel",
      "state": {
       "_model_module": "@jupyter-widgets/controls",
       "_model_module_version": "1.5.0",
       "_model_name": "DescriptionStyleModel",
       "_view_count": null,
       "_view_module": "@jupyter-widgets/base",
       "_view_module_version": "1.2.0",
       "_view_name": "StyleView",
       "description_width": ""
      }
     },
     "8c2525b02e41406b802a85fff52612cd": {
      "model_module": "@jupyter-widgets/controls",
      "model_module_version": "1.5.0",
      "model_name": "HTMLModel",
      "state": {
       "_dom_classes": [],
       "_model_module": "@jupyter-widgets/controls",
       "_model_module_version": "1.5.0",
       "_model_name": "HTMLModel",
       "_view_count": null,
       "_view_module": "@jupyter-widgets/controls",
       "_view_module_version": "1.5.0",
       "_view_name": "HTMLView",
       "description": "",
       "description_tooltip": null,
       "layout": "IPY_MODEL_0b59ebee682b432ba7c762a08cdc15ea",
       "placeholder": "​",
       "style": "IPY_MODEL_8dc6d12a8e384dc79552a1364e85632c",
       "value": "100%"
      }
     },
     "8dc6d12a8e384dc79552a1364e85632c": {
      "model_module": "@jupyter-widgets/controls",
      "model_module_version": "1.5.0",
      "model_name": "DescriptionStyleModel",
      "state": {
       "_model_module": "@jupyter-widgets/controls",
       "_model_module_version": "1.5.0",
       "_model_name": "DescriptionStyleModel",
       "_view_count": null,
       "_view_module": "@jupyter-widgets/base",
       "_view_module_version": "1.2.0",
       "_view_name": "StyleView",
       "description_width": ""
      }
     },
     "9144f63e245d402290f9d8a5a695cf83": {
      "model_module": "@jupyter-widgets/base",
      "model_module_version": "1.2.0",
      "model_name": "LayoutModel",
      "state": {
       "_model_module": "@jupyter-widgets/base",
       "_model_module_version": "1.2.0",
       "_model_name": "LayoutModel",
       "_view_count": null,
       "_view_module": "@jupyter-widgets/base",
       "_view_module_version": "1.2.0",
       "_view_name": "LayoutView",
       "align_content": null,
       "align_items": null,
       "align_self": null,
       "border": null,
       "bottom": null,
       "display": null,
       "flex": null,
       "flex_flow": null,
       "grid_area": null,
       "grid_auto_columns": null,
       "grid_auto_flow": null,
       "grid_auto_rows": null,
       "grid_column": null,
       "grid_gap": null,
       "grid_row": null,
       "grid_template_areas": null,
       "grid_template_columns": null,
       "grid_template_rows": null,
       "height": null,
       "justify_content": null,
       "justify_items": null,
       "left": null,
       "margin": null,
       "max_height": null,
       "max_width": null,
       "min_height": null,
       "min_width": null,
       "object_fit": null,
       "object_position": null,
       "order": null,
       "overflow": null,
       "overflow_x": null,
       "overflow_y": null,
       "padding": null,
       "right": null,
       "top": null,
       "visibility": null,
       "width": null
      }
     },
     "9845843fba984c878220de6003ca2fd3": {
      "model_module": "@jupyter-widgets/base",
      "model_module_version": "1.2.0",
      "model_name": "LayoutModel",
      "state": {
       "_model_module": "@jupyter-widgets/base",
       "_model_module_version": "1.2.0",
       "_model_name": "LayoutModel",
       "_view_count": null,
       "_view_module": "@jupyter-widgets/base",
       "_view_module_version": "1.2.0",
       "_view_name": "LayoutView",
       "align_content": null,
       "align_items": null,
       "align_self": null,
       "border": null,
       "bottom": null,
       "display": null,
       "flex": null,
       "flex_flow": null,
       "grid_area": null,
       "grid_auto_columns": null,
       "grid_auto_flow": null,
       "grid_auto_rows": null,
       "grid_column": null,
       "grid_gap": null,
       "grid_row": null,
       "grid_template_areas": null,
       "grid_template_columns": null,
       "grid_template_rows": null,
       "height": null,
       "justify_content": null,
       "justify_items": null,
       "left": null,
       "margin": null,
       "max_height": null,
       "max_width": null,
       "min_height": null,
       "min_width": null,
       "object_fit": null,
       "object_position": null,
       "order": null,
       "overflow": null,
       "overflow_x": null,
       "overflow_y": null,
       "padding": null,
       "right": null,
       "top": null,
       "visibility": null,
       "width": null
      }
     },
     "9d329784d2b447858c92d080a2c20bd5": {
      "model_module": "@jupyter-widgets/controls",
      "model_module_version": "1.5.0",
      "model_name": "DescriptionStyleModel",
      "state": {
       "_model_module": "@jupyter-widgets/controls",
       "_model_module_version": "1.5.0",
       "_model_name": "DescriptionStyleModel",
       "_view_count": null,
       "_view_module": "@jupyter-widgets/base",
       "_view_module_version": "1.2.0",
       "_view_name": "StyleView",
       "description_width": ""
      }
     },
     "add3b1cbad6d4738a89826b9fc93483f": {
      "model_module": "@jupyter-widgets/controls",
      "model_module_version": "1.5.0",
      "model_name": "DescriptionStyleModel",
      "state": {
       "_model_module": "@jupyter-widgets/controls",
       "_model_module_version": "1.5.0",
       "_model_name": "DescriptionStyleModel",
       "_view_count": null,
       "_view_module": "@jupyter-widgets/base",
       "_view_module_version": "1.2.0",
       "_view_name": "StyleView",
       "description_width": ""
      }
     },
     "bb84f8d9943b41b68f915669a8f0bf4a": {
      "model_module": "@jupyter-widgets/controls",
      "model_module_version": "1.5.0",
      "model_name": "HTMLModel",
      "state": {
       "_dom_classes": [],
       "_model_module": "@jupyter-widgets/controls",
       "_model_module_version": "1.5.0",
       "_model_name": "HTMLModel",
       "_view_count": null,
       "_view_module": "@jupyter-widgets/controls",
       "_view_module_version": "1.5.0",
       "_view_name": "HTMLView",
       "description": "",
       "description_tooltip": null,
       "layout": "IPY_MODEL_1d4fd04683274dd881f3261936fb17de",
       "placeholder": "​",
       "style": "IPY_MODEL_add3b1cbad6d4738a89826b9fc93483f",
       "value": " 3/3 [00:00&lt;00:00, 220.69it/s]"
      }
     },
     "d636f42cdf5f41659555ab54fc01a2be": {
      "model_module": "@jupyter-widgets/base",
      "model_module_version": "1.2.0",
      "model_name": "LayoutModel",
      "state": {
       "_model_module": "@jupyter-widgets/base",
       "_model_module_version": "1.2.0",
       "_model_name": "LayoutModel",
       "_view_count": null,
       "_view_module": "@jupyter-widgets/base",
       "_view_module_version": "1.2.0",
       "_view_name": "LayoutView",
       "align_content": null,
       "align_items": null,
       "align_self": null,
       "border": null,
       "bottom": null,
       "display": null,
       "flex": null,
       "flex_flow": null,
       "grid_area": null,
       "grid_auto_columns": null,
       "grid_auto_flow": null,
       "grid_auto_rows": null,
       "grid_column": null,
       "grid_gap": null,
       "grid_row": null,
       "grid_template_areas": null,
       "grid_template_columns": null,
       "grid_template_rows": null,
       "height": null,
       "justify_content": null,
       "justify_items": null,
       "left": null,
       "margin": null,
       "max_height": null,
       "max_width": null,
       "min_height": null,
       "min_width": null,
       "object_fit": null,
       "object_position": null,
       "order": null,
       "overflow": null,
       "overflow_x": null,
       "overflow_y": null,
       "padding": null,
       "right": null,
       "top": null,
       "visibility": null,
       "width": null
      }
     },
     "d8d4995ee6004c6ebb8ff26e048c71a7": {
      "model_module": "@jupyter-widgets/controls",
      "model_module_version": "1.5.0",
      "model_name": "HBoxModel",
      "state": {
       "_dom_classes": [],
       "_model_module": "@jupyter-widgets/controls",
       "_model_module_version": "1.5.0",
       "_model_name": "HBoxModel",
       "_view_count": null,
       "_view_module": "@jupyter-widgets/controls",
       "_view_module_version": "1.5.0",
       "_view_name": "HBoxView",
       "box_style": "",
       "children": [
        "IPY_MODEL_62778166e063435f8c3d4950274cbdde",
        "IPY_MODEL_fdd8ef266e8b4385be0e0917c0809f18",
        "IPY_MODEL_bb84f8d9943b41b68f915669a8f0bf4a"
       ],
       "layout": "IPY_MODEL_9144f63e245d402290f9d8a5a695cf83"
      }
     },
     "f648e838852a4e04bbc9de3122549078": {
      "model_module": "@jupyter-widgets/base",
      "model_module_version": "1.2.0",
      "model_name": "LayoutModel",
      "state": {
       "_model_module": "@jupyter-widgets/base",
       "_model_module_version": "1.2.0",
       "_model_name": "LayoutModel",
       "_view_count": null,
       "_view_module": "@jupyter-widgets/base",
       "_view_module_version": "1.2.0",
       "_view_name": "LayoutView",
       "align_content": null,
       "align_items": null,
       "align_self": null,
       "border": null,
       "bottom": null,
       "display": null,
       "flex": null,
       "flex_flow": null,
       "grid_area": null,
       "grid_auto_columns": null,
       "grid_auto_flow": null,
       "grid_auto_rows": null,
       "grid_column": null,
       "grid_gap": null,
       "grid_row": null,
       "grid_template_areas": null,
       "grid_template_columns": null,
       "grid_template_rows": null,
       "height": null,
       "justify_content": null,
       "justify_items": null,
       "left": null,
       "margin": null,
       "max_height": null,
       "max_width": null,
       "min_height": null,
       "min_width": null,
       "object_fit": null,
       "object_position": null,
       "order": null,
       "overflow": null,
       "overflow_x": null,
       "overflow_y": null,
       "padding": null,
       "right": null,
       "top": null,
       "visibility": null,
       "width": null
      }
     },
     "f6ec8f88b1cf4ac1834ffd0aea3b3bab": {
      "model_module": "@jupyter-widgets/controls",
      "model_module_version": "1.5.0",
      "model_name": "FloatProgressModel",
      "state": {
       "_dom_classes": [],
       "_model_module": "@jupyter-widgets/controls",
       "_model_module_version": "1.5.0",
       "_model_name": "FloatProgressModel",
       "_view_count": null,
       "_view_module": "@jupyter-widgets/controls",
       "_view_module_version": "1.5.0",
       "_view_name": "ProgressView",
       "bar_style": "success",
       "description": "",
       "description_tooltip": null,
       "layout": "IPY_MODEL_f648e838852a4e04bbc9de3122549078",
       "max": 26728.0,
       "min": 0.0,
       "orientation": "horizontal",
       "style": "IPY_MODEL_0530be95465d45d88a6d91d68b6640cb",
       "value": 26728.0
      }
     },
     "fdd8ef266e8b4385be0e0917c0809f18": {
      "model_module": "@jupyter-widgets/controls",
      "model_module_version": "1.5.0",
      "model_name": "FloatProgressModel",
      "state": {
       "_dom_classes": [],
       "_model_module": "@jupyter-widgets/controls",
       "_model_module_version": "1.5.0",
       "_model_name": "FloatProgressModel",
       "_view_count": null,
       "_view_module": "@jupyter-widgets/controls",
       "_view_module_version": "1.5.0",
       "_view_name": "ProgressView",
       "bar_style": "success",
       "description": "",
       "description_tooltip": null,
       "layout": "IPY_MODEL_705d2c5566044267a880d278f8cd5ea8",
       "max": 3.0,
       "min": 0.0,
       "orientation": "horizontal",
       "style": "IPY_MODEL_13110e49081f4943a98d3ea31d58a1be",
       "value": 3.0
      }
     }
    },
    "version_major": 2,
    "version_minor": 0
   }
  }
 },
 "nbformat": 4,
 "nbformat_minor": 5
}
